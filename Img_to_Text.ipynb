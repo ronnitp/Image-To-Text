{
 "cells": [
  {
   "cell_type": "code",
   "execution_count": 1,
   "metadata": {},
   "outputs": [],
   "source": [
    "import cv2\n",
    "import numpy as np\n",
    "import pytesseract\n",
    "from PIL import Image"
   ]
  },
  {
   "cell_type": "code",
   "execution_count": 3,
   "metadata": {},
   "outputs": [
    {
     "name": "stdout",
     "output_type": "stream",
     "text": [
      "Image processing algorithms\n",
      "Image thresholding\n",
      "\n",
      "Image perspective transformation\n",
      "Optical character recognition\n"
     ]
    }
   ],
   "source": [
    "img = Image.open(r'/Users/Ronnit/Downloads/random.png') #Path to the image\n",
    "#Mention the path to where tesseract has been installed on your system \n",
    "pytesseract.pytesseract.tesseract_cmd='/usr/local/Cellar/tesseract/4.0.0_1/bin/tesseract' \n",
    "r=pytesseract.image_to_string(img)\n",
    "print(r)"
   ]
  }
 ],
 "metadata": {
  "kernelspec": {
   "display_name": "Python 3",
   "language": "python",
   "name": "python3"
  },
  "language_info": {
   "codemirror_mode": {
    "name": "ipython",
    "version": 3
   },
   "file_extension": ".py",
   "mimetype": "text/x-python",
   "name": "python",
   "nbconvert_exporter": "python",
   "pygments_lexer": "ipython3",
   "version": "3.7.3"
  }
 },
 "nbformat": 4,
 "nbformat_minor": 2
}
